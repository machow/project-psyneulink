{
 "cells": [
  {
   "cell_type": "markdown",
   "metadata": {},
   "source": [
    "There are some packages you need to be able to create DataCamp Projects locally. Run the code cells below to install them.\n",
    "\n",
    "You might need to change `pip` into `pip3` depending on how you installed python."
   ]
  },
  {
   "cell_type": "code",
   "execution_count": 4,
   "metadata": {},
   "outputs": [
    {
     "name": "stdout",
     "output_type": "stream",
     "text": [
      "Requirement already satisfied: nose in /Users/rasmus/anaconda3/lib/python3.6/site-packages\r\n"
     ]
    }
   ],
   "source": [
    "! pip install nose"
   ]
  },
  {
   "cell_type": "code",
   "execution_count": 3,
   "metadata": {},
   "outputs": [
    {
     "name": "stdout",
     "output_type": "stream",
     "text": [
      "Collecting git+https://github.com/datacamp/ipython_nose\n",
      "  Cloning https://github.com/datacamp/ipython_nose to /private/var/folders/84/hnf4pjdn5ys4q2wmfw131fk40000gn/T/pip-anly1mbg-build\n",
      "Installing collected packages: ipython-nose\n",
      "  Running setup.py install for ipython-nose ... \u001b[?25ldone\n",
      "\u001b[?25hSuccessfully installed ipython-nose-0.2.0.dev0\n"
     ]
    }
   ],
   "source": [
    "! pip install git+https://github.com/datacamp/ipython_nose"
   ]
  }
 ],
 "metadata": {
  "kernelspec": {
   "display_name": "Python 3",
   "language": "python",
   "name": "python3"
  },
  "language_info": {
   "codemirror_mode": {
    "name": "ipython",
    "version": 3
   },
   "file_extension": ".py",
   "mimetype": "text/x-python",
   "name": "python",
   "nbconvert_exporter": "python",
   "pygments_lexer": "ipython3",
   "version": "3.6.2"
  }
 },
 "nbformat": 4,
 "nbformat_minor": 2
}
