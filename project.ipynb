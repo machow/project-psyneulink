{
 "cells": [
  {
   "cell_type": "markdown",
   "metadata": {},
   "source": [
    "# Here goes the Project title. Catchy _but_ descriptive."
   ]
  },
  {
   "cell_type": "code",
   "execution_count": 11,
   "metadata": {},
   "outputs": [
    {
     "name": "stdout",
     "output_type": "stream",
     "text": [
      "The ipython_nose extension is already loaded. To reload it, use:\n",
      "  %reload_ext ipython_nose\n"
     ]
    }
   ],
   "source": [
    "# This is a code cell without any tag. You can put convenience code here,\n",
    "# but it won't be included in any way in the final project.\n",
    "# For example, to be able to run tests locally in the notebook\n",
    "# you need to install the following:\n",
    "# pip install nose\n",
    "# pip install git+https://github.com/datacamp/ipython_nose\n",
    "# and then load in the ipython_nose extension like this:\n",
    "%load_ext ipython_nose"
   ]
  },
  {
   "cell_type": "markdown",
   "metadata": {},
   "source": [
    "This is a markdown cell without any tag. You can put text / TODOs / etc. here\n",
    "but it won't be included in any way in the final project.\n",
    "\n",
    "For example, here is the documentation of the format of a DataCamp Project notebook: https://authoring.datacamp.com/projects/projects-format.html"
   ]
  },
  {
   "cell_type": "markdown",
   "metadata": {
    "tags": [
     "type:NotebookTask"
    ]
   },
   "source": [
    "## 1. Here goes the title of the first task"
   ]
  },
  {
   "cell_type": "markdown",
   "metadata": {
    "tags": [
     "@context"
    ]
   },
   "source": [
    "Context / background / story / etc. This will show up in the student's notebook. It should at most have 800 characters and/or 3 paragraphs.\n",
    "\n",
    "You can include images if you put them in the `img` folder. But make sure they have a permissive license.\n",
    "\n",
    "![](img/eclipse.png)"
   ]
  },
  {
   "cell_type": "markdown",
   "metadata": {
    "tags": [
     "@instructions"
    ]
   },
   "source": [
    "The task instructions start with a brief sentence framing the task.\n",
    "\n",
    "- The specific task instructions go in a bullet point list.\n",
    "- One bullet per sub task.\n",
    "- At most 4 bullets.\n",
    "\n",
    "<hr>\n",
    "\n",
    "## Good to know\n",
    "\n",
    "The `@instructions` to the first task should include a \"Good to know\" section where you direct the student to resources that could be useful _throughout_ the Project. This could be external documentation, DataCamp courses and exercises, cheat sheets, Stack Overflow answers, etc. "
   ]
  },
  {
   "cell_type": "markdown",
   "metadata": {
    "tags": [
     "@hint"
    ]
   },
   "source": [
    "This is a hint the student will get if they click the hint button at the bottom of the instructions. It's the last help the student can get, so make it helpful. \n",
    "\n",
    "```\n",
    "# Feel free to include links to documentation.\n",
    "print(\"And code snippets in the hint.\")\n",
    "```"
   ]
  },
  {
   "cell_type": "code",
   "execution_count": 12,
   "metadata": {
    "collapsed": true,
    "tags": [
     "@sample_code"
    ]
   },
   "outputs": [],
   "source": [
    "# This is the sample code the student will see. It should\n",
    "# consist of up to 10 lines of code and comments, and the\n",
    "# student should have to complete at most 5 lines of code.\n",
    "\n",
    "# Rule of thumb: Each bullet point in @instructions should\n",
    "# correspond to a comment in the @sample_code\n",
    "\n",
    "# Indicate missing code with ...\n",
    "like_this = ...\n",
    "# or when a line or more is required, like this:\n",
    "# ... YOUR CODE FOR TASK 1 ..."
   ]
  },
  {
   "cell_type": "code",
   "execution_count": 13,
   "metadata": {
    "tags": [
     "@solution"
    ]
   },
   "outputs": [
    {
     "data": {
      "text/html": [
       "<div>\n",
       "<style>\n",
       "    .dataframe thead tr:only-child th {\n",
       "        text-align: right;\n",
       "    }\n",
       "\n",
       "    .dataframe thead th {\n",
       "        text-align: left;\n",
       "    }\n",
       "\n",
       "    .dataframe tbody tr th {\n",
       "        vertical-align: top;\n",
       "    }\n",
       "</style>\n",
       "<table border=\"1\" class=\"dataframe\">\n",
       "  <thead>\n",
       "    <tr style=\"text-align: right;\">\n",
       "      <th></th>\n",
       "      <th>sepal_length</th>\n",
       "      <th>sepal_width</th>\n",
       "      <th>petal_length</th>\n",
       "      <th>petal_width</th>\n",
       "      <th>species</th>\n",
       "    </tr>\n",
       "  </thead>\n",
       "  <tbody>\n",
       "    <tr>\n",
       "      <th>0</th>\n",
       "      <td>5.1</td>\n",
       "      <td>3.5</td>\n",
       "      <td>1.4</td>\n",
       "      <td>0.2</td>\n",
       "      <td>setosa</td>\n",
       "    </tr>\n",
       "    <tr>\n",
       "      <th>1</th>\n",
       "      <td>4.9</td>\n",
       "      <td>3.0</td>\n",
       "      <td>1.4</td>\n",
       "      <td>0.2</td>\n",
       "      <td>setosa</td>\n",
       "    </tr>\n",
       "    <tr>\n",
       "      <th>2</th>\n",
       "      <td>4.7</td>\n",
       "      <td>3.2</td>\n",
       "      <td>1.3</td>\n",
       "      <td>0.2</td>\n",
       "      <td>setosa</td>\n",
       "    </tr>\n",
       "    <tr>\n",
       "      <th>3</th>\n",
       "      <td>4.6</td>\n",
       "      <td>3.1</td>\n",
       "      <td>1.5</td>\n",
       "      <td>0.2</td>\n",
       "      <td>setosa</td>\n",
       "    </tr>\n",
       "    <tr>\n",
       "      <th>4</th>\n",
       "      <td>5.0</td>\n",
       "      <td>3.6</td>\n",
       "      <td>1.4</td>\n",
       "      <td>0.2</td>\n",
       "      <td>setosa</td>\n",
       "    </tr>\n",
       "  </tbody>\n",
       "</table>\n",
       "</div>"
      ],
      "text/plain": [
       "   sepal_length  sepal_width  petal_length  petal_width species\n",
       "0           5.1          3.5           1.4          0.2  setosa\n",
       "1           4.9          3.0           1.4          0.2  setosa\n",
       "2           4.7          3.2           1.3          0.2  setosa\n",
       "3           4.6          3.1           1.5          0.2  setosa\n",
       "4           5.0          3.6           1.4          0.2  setosa"
      ]
     },
     "execution_count": 13,
     "metadata": {},
     "output_type": "execute_result"
    }
   ],
   "source": [
    "# Your solution code. This won't be shown to the student.\n",
    "\n",
    "# The @solution should mirror the corresponding @sample_code,\n",
    "# but with the missing parts filled in.\n",
    "like_this = 'missing part filled in'\n",
    "\n",
    "# It should consist of up to 10 lines of code and comments \n",
    "# and take at most 5 seconds to execute on an average laptop.\n",
    "\n",
    "# Put any files you need to access in the `datasets/` folder and \n",
    "# then reference them with a relative link, like this:\n",
    "import pandas as pd\n",
    "iris = pd.read_csv('datasets/iris.csv')\n",
    "iris.head()"
   ]
  },
  {
   "cell_type": "code",
   "execution_count": 14,
   "metadata": {
    "tags": [
     "@tests"
    ]
   },
   "outputs": [
    {
     "data": {
      "application/json": "{\"success\": true, \"summary\": {\"tests\": 1, \"failures\": 0, \"errors\": 0}, \"tests\": [{\"name\": \"test_example\", \"success\": true, \"message\": \"\"}]}"
     },
     "metadata": {},
     "output_type": "display_data"
    },
    {
     "data": {
      "text/plain": [
       "1/1 tests passed\n"
      ]
     },
     "execution_count": 14,
     "metadata": {},
     "output_type": "execute_result"
    }
   ],
   "source": [
    "%%nose\n",
    "\n",
    "# one or more tests of the students code. \n",
    "# The @solution should pass the tests.\n",
    "# The purpose of the tests is to try to catch common errors and to \n",
    "# give the student a hint on how to resolve these errors.\n",
    "\n",
    "def test_example():\n",
    "    assert like_this == 'missing part filled in', \\\n",
    "    'The student will see this message if the test fails'"
   ]
  },
  {
   "cell_type": "markdown",
   "metadata": {
    "tags": [
     "type:NotebookTask"
    ]
   },
   "source": [
    "## 2. Here goes the title of the second task"
   ]
  },
  {
   "cell_type": "markdown",
   "metadata": {
    "tags": [
     "@context"
    ]
   },
   "source": [
    "Context / background / story / etc. This will show up in the student's notebook. It should at most have 800 characters and/or 3 paragraphs."
   ]
  },
  {
   "cell_type": "markdown",
   "metadata": {
    "tags": [
     "@instructions"
    ]
   },
   "source": [
    "The task instructions start with a brief sentence framing the task.\n",
    "\n",
    "- The specific task instructions go in a bullet point list.\n",
    "- One bullet per sub task.\n",
    "- At most 4 bullets.\n",
    "\n",
    "<hr>\n",
    "\n",
    "Give more info, context, and links to external documentation under the horizontal ruler. The instructions should at most have 800 characters."
   ]
  },
  {
   "cell_type": "markdown",
   "metadata": {
    "tags": [
     "@hint"
    ]
   },
   "source": [
    "This is a hint the student will get if they click the hint button at the bottom of the instructions. It's the last help the student can get, so make it helpful. \n",
    "\n",
    "```\n",
    "# Feel free to include links to documentation.\n",
    "print(\"And code snippets in the hint.\")\n",
    "```"
   ]
  },
  {
   "cell_type": "code",
   "execution_count": 15,
   "metadata": {
    "collapsed": true,
    "tags": [
     "@sample_code"
    ]
   },
   "outputs": [],
   "source": [
    "# This is the sample code the student will see. It should\n",
    "# consist of up to 10 lines of code and comments, and the\n",
    "# student should have to complete at most 5 lines of code.\n",
    "\n",
    "# Rule of thumb: Each bullet point in @instructions should\n",
    "# correspond to a comment in the @sample_code\n",
    "\n",
    "# Indicate missing code with ...\n",
    "like_this = ...\n",
    "# or when a line or more is required, like this:\n",
    "# ... YOUR CODE FOR TASK 2 ..."
   ]
  },
  {
   "cell_type": "code",
   "execution_count": 16,
   "metadata": {
    "collapsed": true,
    "tags": [
     "@solution"
    ]
   },
   "outputs": [],
   "source": [
    "# Your solution code. This won't be shown to the student.\n",
    "\n",
    "# The @solution should mirror the corresponding @sample_code,\n",
    "# but with the missing parts filled in.\n",
    "like_this = 'missing part filled in'\n",
    "\n",
    "# It should consist of up to 10 lines of code and comments \n",
    "# and take at most 5 seconds to execute on an average laptop."
   ]
  },
  {
   "cell_type": "code",
   "execution_count": 17,
   "metadata": {
    "tags": [
     "@tests"
    ]
   },
   "outputs": [
    {
     "data": {
      "application/json": "{\"success\": true, \"summary\": {\"tests\": 1, \"failures\": 0, \"errors\": 0}, \"tests\": [{\"name\": \"test_example\", \"success\": true, \"message\": \"\"}]}"
     },
     "metadata": {},
     "output_type": "display_data"
    },
    {
     "data": {
      "text/plain": [
       "1/1 tests passed\n"
      ]
     },
     "execution_count": 17,
     "metadata": {},
     "output_type": "execute_result"
    }
   ],
   "source": [
    "%%nose\n",
    "\n",
    "# one or more tests of the students code. \n",
    "# The @solution should pass the tests.\n",
    "# The purpose of the tests is to try to catch common errors and to \n",
    "# give the student a hint on how to resolve these errors.\n",
    "\n",
    "def test_example():\n",
    "    assert like_this == 'missing part filled in', \\\n",
    "    'The student will see this message if the test fails'"
   ]
  },
  {
   "cell_type": "markdown",
   "metadata": {
    "tags": [
     "type:NotebookTask"
    ]
   },
   "source": [
    "## 3. Here goes the title of the third task"
   ]
  },
  {
   "cell_type": "markdown",
   "metadata": {
    "tags": [
     "@context"
    ]
   },
   "source": [
    "Context / background / story / etc. This will show up in the student's notebook. It should at most have 800 characters and/or 3 paragraphs."
   ]
  },
  {
   "cell_type": "markdown",
   "metadata": {
    "tags": [
     "@instructions"
    ]
   },
   "source": [
    "The task instructions start with a brief sentence framing the task.\n",
    "\n",
    "- The specific task instructions go in a bullet point list.\n",
    "- One bullet per sub task.\n",
    "- At most 4 bullets.\n",
    "\n",
    "<hr>\n",
    "\n",
    "Give more info, context, and links to external documentation under the horizontal ruler. The instructions should at most have 800 characters."
   ]
  },
  {
   "cell_type": "markdown",
   "metadata": {
    "tags": [
     "@hint"
    ]
   },
   "source": [
    "This is a hint the student will get if they click the hint button at the bottom of the instructions. It's the last help the student can get, so make it helpful. \n",
    "\n",
    "```\n",
    "# Feel free to include links to documentation.\n",
    "print(\"And code snippets in the hint.\")\n",
    "```"
   ]
  },
  {
   "cell_type": "code",
   "execution_count": 18,
   "metadata": {
    "collapsed": true,
    "tags": [
     "@sample_code"
    ]
   },
   "outputs": [],
   "source": [
    "# This is the sample code the student will see. It should\n",
    "# consist of up to 10 lines of code and comments, and the\n",
    "# student should have to complete at most 5 lines of code.\n",
    "\n",
    "# Rule of thumb: Each bullet point in @instructions should\n",
    "# correspond to a comment in the @sample_code\n",
    "\n",
    "# Indicate missing code with ...\n",
    "like_this = ...\n",
    "# or when a line or more is required, like this:\n",
    "# ... YOUR CODE FOR TASK 3 ..."
   ]
  },
  {
   "cell_type": "code",
   "execution_count": 19,
   "metadata": {
    "collapsed": true,
    "tags": [
     "@solution"
    ]
   },
   "outputs": [],
   "source": [
    "# Your solution code. This won't be shown to the student.\n",
    "\n",
    "# The @solution should mirror the corresponding @sample_code,\n",
    "# but with the missing parts filled in.\n",
    "like_this = 'missing part filled in'\n",
    "\n",
    "# It should consist of up to 10 lines of code and comments \n",
    "# and take at most 5 seconds to execute on an average laptop."
   ]
  },
  {
   "cell_type": "code",
   "execution_count": 20,
   "metadata": {
    "tags": [
     "@tests"
    ]
   },
   "outputs": [
    {
     "data": {
      "application/json": "{\"success\": true, \"summary\": {\"tests\": 1, \"failures\": 0, \"errors\": 0}, \"tests\": [{\"name\": \"test_example\", \"success\": true, \"message\": \"\"}]}"
     },
     "metadata": {},
     "output_type": "display_data"
    },
    {
     "data": {
      "text/plain": [
       "1/1 tests passed\n"
      ]
     },
     "execution_count": 20,
     "metadata": {},
     "output_type": "execute_result"
    }
   ],
   "source": [
    "%%nose\n",
    "\n",
    "# one or more tests of the students code. \n",
    "# The @solution should pass the tests.\n",
    "# The purpose of the tests is to try to catch common errors and to \n",
    "# give the student a hint on how to resolve these errors.\n",
    "\n",
    "def test_example():\n",
    "    assert like_this == 'missing part filled in', \\\n",
    "    'The student will see this message if the test fails'"
   ]
  },
  {
   "cell_type": "markdown",
   "metadata": {
    "tags": [
     "type:NotebookTask"
    ]
   },
   "source": [
    "## 4. Here goes the title of the fourth task"
   ]
  },
  {
   "cell_type": "markdown",
   "metadata": {
    "tags": [
     "@context"
    ]
   },
   "source": [
    "Context / background / story / etc. This will show up in the student's notebook. It should at most have 800 characters and/or 3 paragraphs."
   ]
  },
  {
   "cell_type": "markdown",
   "metadata": {
    "tags": [
     "@instructions"
    ]
   },
   "source": [
    "The task instructions start with a brief sentence framing the task.\n",
    "\n",
    "- The specific task instructions go in a bullet point list.\n",
    "- One bullet per sub task.\n",
    "- At most 4 bullets.\n",
    "\n",
    "<hr>\n",
    "\n",
    "Give more info, context, and links to external documentation under the horizontal ruler. The instructions should at most have 800 characters."
   ]
  },
  {
   "cell_type": "markdown",
   "metadata": {
    "tags": [
     "@hint"
    ]
   },
   "source": [
    "This is a hint the student will get if they click the hint button at the bottom of the instructions. It's the last help the student can get, so make it helpful. \n",
    "\n",
    "```\n",
    "# Feel free to include links to documentation.\n",
    "print(\"And code snippets in the hint.\")\n",
    "```"
   ]
  },
  {
   "cell_type": "code",
   "execution_count": 21,
   "metadata": {
    "collapsed": true,
    "tags": [
     "@sample_code"
    ]
   },
   "outputs": [],
   "source": [
    "# This is the sample code the student will see. It should\n",
    "# consist of up to 10 lines of code and comments, and the\n",
    "# student should have to complete at most 5 lines of code.\n",
    "\n",
    "# Rule of thumb: Each bullet point in @instructions should\n",
    "# correspond to a comment in the @sample_code\n",
    "\n",
    "# Indicate missing code with ...\n",
    "like_this = ...\n",
    "# or when a line or more is required, like this:\n",
    "# ... YOUR CODE FOR TASK 4 ..."
   ]
  },
  {
   "cell_type": "code",
   "execution_count": 22,
   "metadata": {
    "collapsed": true,
    "tags": [
     "@solution"
    ]
   },
   "outputs": [],
   "source": [
    "# Your solution code. This won't be shown to the student.\n",
    "\n",
    "# The @solution should mirror the corresponding @sample_code,\n",
    "# but with the missing parts filled in.\n",
    "like_this = 'missing part filled in'\n",
    "\n",
    "# It should consist of up to 10 lines of code and comments \n",
    "# and take at most 5 seconds to execute on an average laptop."
   ]
  },
  {
   "cell_type": "code",
   "execution_count": 23,
   "metadata": {
    "tags": [
     "@tests"
    ]
   },
   "outputs": [
    {
     "data": {
      "application/json": "{\"success\": true, \"summary\": {\"tests\": 1, \"failures\": 0, \"errors\": 0}, \"tests\": [{\"name\": \"test_example\", \"success\": true, \"message\": \"\"}]}"
     },
     "metadata": {},
     "output_type": "display_data"
    },
    {
     "data": {
      "text/plain": [
       "1/1 tests passed\n"
      ]
     },
     "execution_count": 23,
     "metadata": {},
     "output_type": "execute_result"
    }
   ],
   "source": [
    "%%nose\n",
    "\n",
    "# one or more tests of the students code. \n",
    "# The @solution should pass the tests.\n",
    "# The purpose of the tests is to try to catch common errors and to \n",
    "# give the student a hint on how to resolve these errors.\n",
    "\n",
    "def test_example():\n",
    "    assert like_this == 'missing part filled in', \\\n",
    "    'The student will see this message if the test fails'"
   ]
  },
  {
   "cell_type": "markdown",
   "metadata": {
    "tags": [
     "type:NotebookTask"
    ]
   },
   "source": [
    "## 5. Here goes the title of the fifth task"
   ]
  },
  {
   "cell_type": "markdown",
   "metadata": {
    "tags": [
     "@context"
    ]
   },
   "source": [
    "Context / background / story / etc. This will show up in the student's notebook. It should at most have 800 characters and/or 3 paragraphs."
   ]
  },
  {
   "cell_type": "markdown",
   "metadata": {
    "tags": [
     "@instructions"
    ]
   },
   "source": [
    "The task instructions start with a brief sentence framing the task.\n",
    "\n",
    "- The specific task instructions go in a bullet point list.\n",
    "- One bullet per sub task.\n",
    "- At most 4 bullets.\n",
    "\n",
    "<hr>\n",
    "\n",
    "Give more info, context, and links to external documentation under the horizontal ruler. The instructions should at most have 800 characters."
   ]
  },
  {
   "cell_type": "markdown",
   "metadata": {
    "tags": [
     "@hint"
    ]
   },
   "source": [
    "This is a hint the student will get if they click the hint button at the bottom of the instructions. It's the last help the student can get, so make it helpful. \n",
    "\n",
    "```\n",
    "# Feel free to include links to documentation.\n",
    "print(\"And code snippets in the hint.\")\n",
    "```"
   ]
  },
  {
   "cell_type": "code",
   "execution_count": 24,
   "metadata": {
    "collapsed": true,
    "tags": [
     "@sample_code"
    ]
   },
   "outputs": [],
   "source": [
    "# This is the sample code the student will see. It should\n",
    "# consist of up to 10 lines of code and comments, and the\n",
    "# student should have to complete at most 5 lines of code.\n",
    "\n",
    "# Rule of thumb: Each bullet point in @instructions should\n",
    "# correspond to a comment in the @sample_code\n",
    "\n",
    "# Indicate missing code with ...\n",
    "like_this = ...\n",
    "# or when a line or more is required, like this:\n",
    "# ... YOUR CODE FOR TASK 5 ..."
   ]
  },
  {
   "cell_type": "code",
   "execution_count": 25,
   "metadata": {
    "collapsed": true,
    "tags": [
     "@solution"
    ]
   },
   "outputs": [],
   "source": [
    "# Your solution code. This won't be shown to the student.\n",
    "\n",
    "# The @solution should mirror the corresponding @sample_code,\n",
    "# but with the missing parts filled in.\n",
    "like_this = 'missing part filled in'\n",
    "\n",
    "# It should consist of up to 10 lines of code and comments \n",
    "# and take at most 5 seconds to execute on an average laptop."
   ]
  },
  {
   "cell_type": "code",
   "execution_count": 26,
   "metadata": {
    "tags": [
     "@tests"
    ]
   },
   "outputs": [
    {
     "data": {
      "application/json": "{\"success\": true, \"summary\": {\"tests\": 1, \"failures\": 0, \"errors\": 0}, \"tests\": [{\"name\": \"test_example\", \"success\": true, \"message\": \"\"}]}"
     },
     "metadata": {},
     "output_type": "display_data"
    },
    {
     "data": {
      "text/plain": [
       "1/1 tests passed\n"
      ]
     },
     "execution_count": 26,
     "metadata": {},
     "output_type": "execute_result"
    }
   ],
   "source": [
    "%%nose\n",
    "\n",
    "# one or more tests of the students code. \n",
    "# The @solution should pass the tests.\n",
    "# The purpose of the tests is to try to catch common errors and to \n",
    "# give the student a hint on how to resolve these errors.\n",
    "\n",
    "def test_example():\n",
    "    assert like_this == 'missing part filled in', \\\n",
    "    'The student will see this message if the test fails'"
   ]
  },
  {
   "cell_type": "markdown",
   "metadata": {
    "tags": [
     "type:NotebookTask"
    ]
   },
   "source": [
    "## 6. Here goes the title of the sixth task"
   ]
  },
  {
   "cell_type": "markdown",
   "metadata": {
    "tags": [
     "@context"
    ]
   },
   "source": [
    "Context / background / story / etc. This will show up in the student's notebook. It should at most have 800 characters and/or 3 paragraphs."
   ]
  },
  {
   "cell_type": "markdown",
   "metadata": {
    "tags": [
     "@instructions"
    ]
   },
   "source": [
    "The task instructions start with a brief sentence framing the task.\n",
    "\n",
    "- The specific task instructions go in a bullet point list.\n",
    "- One bullet per sub task.\n",
    "- At most 4 bullets.\n",
    "\n",
    "<hr>\n",
    "\n",
    "Give more info, context, and links to external documentation under the horizontal ruler. The instructions should at most have 800 characters."
   ]
  },
  {
   "cell_type": "markdown",
   "metadata": {
    "tags": [
     "@hint"
    ]
   },
   "source": [
    "This is a hint the student will get if they click the hint button at the bottom of the instructions. It's the last help the student can get, so make it helpful. \n",
    "\n",
    "```\n",
    "# Feel free to include links to documentation.\n",
    "print(\"And code snippets in the hint.\")\n",
    "```"
   ]
  },
  {
   "cell_type": "code",
   "execution_count": 27,
   "metadata": {
    "collapsed": true,
    "tags": [
     "@sample_code"
    ]
   },
   "outputs": [],
   "source": [
    "# This is the sample code the student will see. It should\n",
    "# consist of up to 10 lines of code and comments, and the\n",
    "# student should have to complete at most 5 lines of code.\n",
    "\n",
    "# Rule of thumb: Each bullet point in @instructions should\n",
    "# correspond to a comment in the @sample_code\n",
    "\n",
    "# Indicate missing code with ...\n",
    "like_this = ...\n",
    "# or when a line or more is required, like this:\n",
    "# ... YOUR CODE FOR TASK 6 ..."
   ]
  },
  {
   "cell_type": "code",
   "execution_count": 28,
   "metadata": {
    "collapsed": true,
    "tags": [
     "@solution"
    ]
   },
   "outputs": [],
   "source": [
    "# Your solution code. This won't be shown to the student.\n",
    "\n",
    "# The @solution should mirror the corresponding @sample_code,\n",
    "# but with the missing parts filled in.\n",
    "like_this = 'missing part filled in'\n",
    "\n",
    "# It should consist of up to 10 lines of code and comments \n",
    "# and take at most 5 seconds to execute on an average laptop."
   ]
  },
  {
   "cell_type": "code",
   "execution_count": 29,
   "metadata": {
    "tags": [
     "@tests"
    ]
   },
   "outputs": [
    {
     "data": {
      "application/json": "{\"success\": true, \"summary\": {\"tests\": 1, \"failures\": 0, \"errors\": 0}, \"tests\": [{\"name\": \"test_example\", \"success\": true, \"message\": \"\"}]}"
     },
     "metadata": {},
     "output_type": "display_data"
    },
    {
     "data": {
      "text/plain": [
       "1/1 tests passed\n"
      ]
     },
     "execution_count": 29,
     "metadata": {},
     "output_type": "execute_result"
    }
   ],
   "source": [
    "%%nose\n",
    "\n",
    "# one or more tests of the students code. \n",
    "# The @solution should pass the tests.\n",
    "# The purpose of the tests is to try to catch common errors and to \n",
    "# give the student a hint on how to resolve these errors.\n",
    "\n",
    "def test_example():\n",
    "    assert like_this == 'missing part filled in', \\\n",
    "    'The student will see this message if the test fails'"
   ]
  },
  {
   "cell_type": "markdown",
   "metadata": {
    "tags": [
     "type:NotebookTask"
    ]
   },
   "source": [
    "## 7. Here goes the title of the seventh task"
   ]
  },
  {
   "cell_type": "markdown",
   "metadata": {
    "tags": [
     "@context"
    ]
   },
   "source": [
    "Context / background / story / etc. This will show up in the student's notebook. It should at most have 800 characters and/or 3 paragraphs."
   ]
  },
  {
   "cell_type": "markdown",
   "metadata": {
    "tags": [
     "@instructions"
    ]
   },
   "source": [
    "The task instructions start with a brief sentence framing the task.\n",
    "\n",
    "- The specific task instructions go in a bullet point list.\n",
    "- One bullet per sub task.\n",
    "- At most 4 bullets.\n",
    "\n",
    "<hr>\n",
    "\n",
    "Give more info, context, and links to external documentation under the horizontal ruler. The instructions should at most have 800 characters."
   ]
  },
  {
   "cell_type": "markdown",
   "metadata": {
    "tags": [
     "@hint"
    ]
   },
   "source": [
    "This is a hint the student will get if they click the hint button at the bottom of the instructions. It's the last help the student can get, so make it helpful. \n",
    "\n",
    "```\n",
    "# Feel free to include links to documentation.\n",
    "print(\"And code snippets in the hint.\")\n",
    "```"
   ]
  },
  {
   "cell_type": "code",
   "execution_count": 30,
   "metadata": {
    "collapsed": true,
    "tags": [
     "@sample_code"
    ]
   },
   "outputs": [],
   "source": [
    "# This is the sample code the student will see. It should\n",
    "# consist of up to 10 lines of code and comments, and the\n",
    "# student should have to complete at most 5 lines of code.\n",
    "\n",
    "# Rule of thumb: Each bullet point in @instructions should\n",
    "# correspond to a comment in the @sample_code\n",
    "\n",
    "# Indicate missing code with ...\n",
    "like_this = ...\n",
    "# or when a line or more is required, like this:\n",
    "# ... YOUR CODE FOR TASK 7 ..."
   ]
  },
  {
   "cell_type": "code",
   "execution_count": 31,
   "metadata": {
    "collapsed": true,
    "tags": [
     "@solution"
    ]
   },
   "outputs": [],
   "source": [
    "# Your solution code. This won't be shown to the student.\n",
    "\n",
    "# The @solution should mirror the corresponding @sample_code,\n",
    "# but with the missing parts filled in.\n",
    "like_this = 'missing part filled in'\n",
    "\n",
    "# It should consist of up to 10 lines of code and comments \n",
    "# and take at most 5 seconds to execute on an average laptop."
   ]
  },
  {
   "cell_type": "code",
   "execution_count": 32,
   "metadata": {
    "tags": [
     "@tests"
    ]
   },
   "outputs": [
    {
     "data": {
      "application/json": "{\"success\": true, \"summary\": {\"tests\": 1, \"failures\": 0, \"errors\": 0}, \"tests\": [{\"name\": \"test_example\", \"success\": true, \"message\": \"\"}]}"
     },
     "metadata": {},
     "output_type": "display_data"
    },
    {
     "data": {
      "text/plain": [
       "1/1 tests passed\n"
      ]
     },
     "execution_count": 32,
     "metadata": {},
     "output_type": "execute_result"
    }
   ],
   "source": [
    "%%nose\n",
    "\n",
    "# one or more tests of the students code. \n",
    "# The @solution should pass the tests.\n",
    "# The purpose of the tests is to try to catch common errors and to \n",
    "# give the student a hint on how to resolve these errors.\n",
    "\n",
    "def test_example():\n",
    "    assert like_this == 'missing part filled in', \\\n",
    "    'The student will see this message if the test fails'"
   ]
  },
  {
   "cell_type": "markdown",
   "metadata": {
    "tags": [
     "type:NotebookTask"
    ]
   },
   "source": [
    "## 8. Here goes the title of the eighth task"
   ]
  },
  {
   "cell_type": "markdown",
   "metadata": {
    "tags": [
     "@context"
    ]
   },
   "source": [
    "Context / background / story / etc. This will show up in the student's notebook. It should at most have 800 characters and/or 3 paragraphs."
   ]
  },
  {
   "cell_type": "markdown",
   "metadata": {
    "tags": [
     "@instructions"
    ]
   },
   "source": [
    "The task instructions start with a brief sentence framing the task.\n",
    "\n",
    "- The specific task instructions go in a bullet point list.\n",
    "- One bullet per sub task.\n",
    "- At most 4 bullets.\n",
    "\n",
    "<hr>\n",
    "\n",
    "Give more info, context, and links to external documentation under the horizontal ruler. The instructions should at most have 800 characters."
   ]
  },
  {
   "cell_type": "markdown",
   "metadata": {
    "tags": [
     "@hint"
    ]
   },
   "source": [
    "This is a hint the student will get if they click the hint button at the bottom of the instructions. It's the last help the student can get, so make it helpful. \n",
    "\n",
    "```\n",
    "# Feel free to include links to documentation.\n",
    "print(\"And code snippets in the hint.\")\n",
    "```"
   ]
  },
  {
   "cell_type": "code",
   "execution_count": 33,
   "metadata": {
    "collapsed": true,
    "tags": [
     "@sample_code"
    ]
   },
   "outputs": [],
   "source": [
    "# This is the sample code the student will see. It should\n",
    "# consist of up to 10 lines of code and comments, and the\n",
    "# student should have to complete at most 5 lines of code.\n",
    "\n",
    "# Rule of thumb: Each bullet point in @instructions should\n",
    "# correspond to a comment in the @sample_code\n",
    "\n",
    "# Indicate missing code with ...\n",
    "like_this = ...\n",
    "# or when a line or more is required, like this:\n",
    "# ... YOUR CODE FOR TASK 8 ..."
   ]
  },
  {
   "cell_type": "code",
   "execution_count": 34,
   "metadata": {
    "collapsed": true,
    "tags": [
     "@solution"
    ]
   },
   "outputs": [],
   "source": [
    "# Your solution code. This won't be shown to the student.\n",
    "\n",
    "# The @solution should mirror the corresponding @sample_code,\n",
    "# but with the missing parts filled in.\n",
    "like_this = 'missing part filled in'\n",
    "\n",
    "# It should consist of up to 10 lines of code and comments \n",
    "# and take at most 5 seconds to execute on an average laptop."
   ]
  },
  {
   "cell_type": "code",
   "execution_count": 35,
   "metadata": {
    "tags": [
     "@tests"
    ]
   },
   "outputs": [
    {
     "data": {
      "application/json": "{\"success\": true, \"summary\": {\"tests\": 1, \"failures\": 0, \"errors\": 0}, \"tests\": [{\"name\": \"test_example\", \"success\": true, \"message\": \"\"}]}"
     },
     "metadata": {},
     "output_type": "display_data"
    },
    {
     "data": {
      "text/plain": [
       "1/1 tests passed\n"
      ]
     },
     "execution_count": 35,
     "metadata": {},
     "output_type": "execute_result"
    }
   ],
   "source": [
    "%%nose\n",
    "\n",
    "# one or more tests of the students code. \n",
    "# The @solution should pass the tests.\n",
    "# The purpose of the tests is to try to catch common errors and to \n",
    "# give the student a hint on how to resolve these errors.\n",
    "\n",
    "def test_example():\n",
    "    assert like_this == 'missing part filled in', \\\n",
    "    'The student will see this message if the test fails'"
   ]
  },
  {
   "cell_type": "markdown",
   "metadata": {},
   "source": [
    "*The recommended number of tasks in a DataCamp Project is between 8 and 10, so feel free to add more if necessary. You can't have more than 12 tasks.*"
   ]
  }
 ],
 "metadata": {
  "celltoolbar": "Tags",
  "kernelspec": {
   "display_name": "Python 3",
   "language": "python",
   "name": "python3"
  },
  "language_info": {
   "codemirror_mode": {
    "name": "ipython",
    "version": 3
   },
   "file_extension": ".py",
   "mimetype": "text/x-python",
   "name": "python",
   "nbconvert_exporter": "python",
   "pygments_lexer": "ipython3",
   "version": "3.6.2"
  }
 },
 "nbformat": 4,
 "nbformat_minor": 2
}
